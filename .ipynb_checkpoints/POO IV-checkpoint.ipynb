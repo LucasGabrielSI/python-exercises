{
 "cells": [
  {
   "cell_type": "markdown",
   "metadata": {},
   "source": [
    "# ABSTRAÇÃO, ATRIBUTO/MÉTODOS ESTÁTICOS E ENCAPSULAMENTO"
   ]
  },
  {
   "cell_type": "code",
   "execution_count": 35,
   "metadata": {},
   "outputs": [],
   "source": [
    "class ObjetoGrafico(object):\n",
    "    def __init__(self, cor):\n",
    "        self.cor = cor\n",
    "    \n",
    "    def area(self):\n",
    "        pass\n",
    "    def perimetro(self):\n",
    "        pass\n",
    "    def info(self):\n",
    "        print(' {} metros² serão preenchidos com a cor {}'.format(self.area(), self.cor))"
   ]
  },
  {
   "cell_type": "markdown",
   "metadata": {},
   "source": [
    "# ATRIBUTOS E MÉTODOS ESTÁTICOS"
   ]
  },
  {
   "cell_type": "code",
   "execution_count": 1,
   "metadata": {},
   "outputs": [],
   "source": [
    "class Banco(object):\n",
    "    total = 10000\n",
    "    reserva = 1000\n",
    "    \n",
    "    def deposito(self, valor):\n",
    "        pass\n",
    "    \n",
    "    def saque(self, valor):\n",
    "        pass"
   ]
  },
  {
   "cell_type": "code",
   "execution_count": 2,
   "metadata": {},
   "outputs": [],
   "source": [
    "class Conta(Banco):\n",
    "    def __init__(self, nome, ID, saldo):\n",
    "        self.nome = nome\n",
    "        self.ID = ID\n",
    "        self.saldo = saldo\n",
    "        \n",
    "    def deposito(self, valor): # sobrescita \n",
    "            self.saldo += valor\n",
    "            Banco.total += valor\n",
    "            \n",
    "    def saque(self, valor): # sobrescrita\n",
    "        if self.saldo >= valor:\n",
    "            self.saldo -= valor\n",
    "            Banco.total -= valor"
   ]
  },
  {
   "cell_type": "code",
   "execution_count": 3,
   "metadata": {},
   "outputs": [],
   "source": [
    "bradesco = Conta('lucas gabriel', 123, 4000)"
   ]
  },
  {
   "cell_type": "code",
   "execution_count": 4,
   "metadata": {},
   "outputs": [
    {
     "name": "stdout",
     "output_type": "stream",
     "text": [
      "lucas gabriel\n",
      "123\n",
      "4000\n"
     ]
    }
   ],
   "source": [
    "print(bradesco.nome)\n",
    "print(bradesco.ID)\n",
    "print(bradesco.saldo)"
   ]
  },
  {
   "cell_type": "code",
   "execution_count": 5,
   "metadata": {},
   "outputs": [
    {
     "name": "stdout",
     "output_type": "stream",
     "text": [
      "5000\n"
     ]
    }
   ],
   "source": [
    "bradesco.deposito(1000)\n",
    "print(bradesco.saldo)"
   ]
  },
  {
   "cell_type": "code",
   "execution_count": 6,
   "metadata": {},
   "outputs": [
    {
     "name": "stdout",
     "output_type": "stream",
     "text": [
      "0\n"
     ]
    }
   ],
   "source": [
    "bradesco.saque(5000)\n",
    "print(bradesco.saldo)"
   ]
  },
  {
   "cell_type": "code",
   "execution_count": 7,
   "metadata": {},
   "outputs": [
    {
     "name": "stdout",
     "output_type": "stream",
     "text": [
      "6000\n"
     ]
    }
   ],
   "source": [
    "print(Banco.total)"
   ]
  },
  {
   "cell_type": "markdown",
   "metadata": {},
   "source": [
    "# Encapsulamento "
   ]
  },
  {
   "cell_type": "code",
   "execution_count": 25,
   "metadata": {},
   "outputs": [],
   "source": [
    "class Banco(object):\n",
    "    __total = 10000 # atributo privado\n",
    "    reserva = 0.1\n",
    "    \n",
    "    def deposito(self, valor):\n",
    "        pass\n",
    "    \n",
    "    def saque(self, valor):\n",
    "        pass\n",
    "    \n",
    "    def imprimeReserva(): # Método estático\n",
    "        print(Banco.__total * Banco.reserva)"
   ]
  },
  {
   "cell_type": "code",
   "execution_count": 26,
   "metadata": {},
   "outputs": [],
   "source": [
    "class Conta(Banco):\n",
    "    def __init__(self, nome, ID, saldo):\n",
    "        self.nome = nome\n",
    "        self.__ID = ID         # o underline underline antes do atributo, indica que e o mesmo é privado\n",
    "        self.saldo = saldo\n",
    "        \n",
    "    def deposito(self, valor): # sobrescita \n",
    "            self.saldo += valor\n",
    "            Banco.__total += valor\n",
    "            \n",
    "    def saque(self, valor):    # sobrescrita\n",
    "        if self.saldo >= valor:\n",
    "            self.saldo -= valor\n",
    "            Banco.__total -= valor"
   ]
  },
  {
   "cell_type": "code",
   "execution_count": 27,
   "metadata": {},
   "outputs": [],
   "source": [
    "bradesco = Conta('lucas gabriel', 123, 4000)"
   ]
  },
  {
   "cell_type": "code",
   "execution_count": 34,
   "metadata": {},
   "outputs": [
    {
     "name": "stdout",
     "output_type": "stream",
     "text": [
      "1000.0\n"
     ]
    }
   ],
   "source": [
    "Conta.imprimeReserva() # um método estático consegue acessar atributos privates"
   ]
  },
  {
   "cell_type": "code",
   "execution_count": 37,
   "metadata": {},
   "outputs": [
    {
     "data": {
      "text/plain": [
       "123"
      ]
     },
     "execution_count": 37,
     "metadata": {},
     "output_type": "execute_result"
    }
   ],
   "source": [
    "bradesco._Conta__ID # forma de acessar um atributo privado"
   ]
  }
 ],
 "metadata": {
  "kernelspec": {
   "display_name": "Python 3",
   "language": "python",
   "name": "python3"
  },
  "language_info": {
   "codemirror_mode": {
    "name": "ipython",
    "version": 3
   },
   "file_extension": ".py",
   "mimetype": "text/x-python",
   "name": "python",
   "nbconvert_exporter": "python",
   "pygments_lexer": "ipython3",
   "version": "3.6.4"
  }
 },
 "nbformat": 4,
 "nbformat_minor": 2
}
