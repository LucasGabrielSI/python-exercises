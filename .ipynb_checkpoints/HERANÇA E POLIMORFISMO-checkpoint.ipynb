{
 "cells": [
  {
   "cell_type": "markdown",
   "metadata": {},
   "source": [
    "# HERANÇA E POLIMORFISMO "
   ]
  },
  {
   "cell_type": "markdown",
   "metadata": {},
   "source": [
    "# SUPERCLASSE"
   ]
  },
  {
   "cell_type": "code",
   "execution_count": 6,
   "metadata": {},
   "outputs": [],
   "source": [
    "class Mamifero(object):\n",
    "    def __init__(self, cor_do_pelo, genero, numero_de_patas):\n",
    "        self.cor_do_pelo = cor_do_pelo\n",
    "        self.genero = genero\n",
    "        self.numero_de_patas = numero_de_patas\n",
    "        \n",
    "    def falar(self):\n",
    "        print('Olá, so um mamífero e sei falar')\n",
    "    \n",
    "    def andar(self):\n",
    "        print('Eu estou andando sobre {} patas'.format(self.numero_de_patas))\n",
    "    \n",
    "    def amamentar(self):\n",
    "        if self.genero.lower() == 'masculino':\n",
    "            print('machos não amamentam')\n",
    "            return \n",
    "        print('Amamentando meu filhote')"
   ]
  },
  {
   "cell_type": "code",
   "execution_count": 17,
   "metadata": {},
   "outputs": [
    {
     "name": "stdout",
     "output_type": "stream",
     "text": [
      "Olá, so um mamífero e sei falar\n",
      "Eu estou andando sobre 4 patas\n",
      "machos não amamentam\n"
     ]
    }
   ],
   "source": [
    "Rex =  Mamifero('marrom', 'masculino', 4)\n",
    "Rex.falar()\n",
    "Rex.andar()\n",
    "Rex.amamentar()"
   ]
  },
  {
   "cell_type": "code",
   "execution_count": 18,
   "metadata": {},
   "outputs": [
    {
     "name": "stdout",
     "output_type": "stream",
     "text": [
      "Eu estou andando sobre 2 patas\n",
      "Olá, so um mamífero e sei falar\n",
      "Amamentando meu filhote\n"
     ]
    }
   ],
   "source": [
    "Julia = Mamifero('preto', 'feminino', 2)\n",
    "Julia.andar()\n",
    "Julia.falar()\n",
    "Julia.amamentar()"
   ]
  },
  {
   "cell_type": "markdown",
   "metadata": {},
   "source": [
    "# SUB-CLASSES"
   ]
  },
  {
   "cell_type": "code",
   "execution_count": 36,
   "metadata": {},
   "outputs": [],
   "source": [
    "class Pessoa(Mamifero):\n",
    "    pass"
   ]
  },
  {
   "cell_type": "code",
   "execution_count": 37,
   "metadata": {},
   "outputs": [
    {
     "name": "stdout",
     "output_type": "stream",
     "text": [
      "Eu estou andando sobre 2 patas\n"
     ]
    },
    {
     "data": {
      "text/plain": [
       "'feminino'"
      ]
     },
     "execution_count": 37,
     "metadata": {},
     "output_type": "execute_result"
    }
   ],
   "source": [
    "Julia = Pessoa('preto', 'feminino', 2)\n",
    "Julia.andar()\n",
    "Julia.genero"
   ]
  },
  {
   "cell_type": "code",
   "execution_count": 38,
   "metadata": {},
   "outputs": [],
   "source": [
    "class Pessoa(Mamifero):\n",
    "    def __init__(self, cor_do_pelo, genero, numero_de_patas, cabelo):\n",
    "        super(Pessoa, self).__init__(cor_do_pelo, genero, numero_de_patas) # chamada ao construtor da superclasse\n",
    "        self.cabelo = cabelo\n",
    "    \n",
    "    def falar(self): # sobrescrita do método falar da superclasse\n",
    "        print('Olá, sou uma pessoa e eu sei falar')"
   ]
  },
  {
   "cell_type": "code",
   "execution_count": 39,
   "metadata": {},
   "outputs": [],
   "source": [
    "Julia = Pessoa('preto', 'feminino', 2, 'preto')"
   ]
  },
  {
   "cell_type": "code",
   "execution_count": 40,
   "metadata": {},
   "outputs": [
    {
     "name": "stdout",
     "output_type": "stream",
     "text": [
      "Olá, sou uma pessoa e eu sei falar\n"
     ]
    }
   ],
   "source": [
    "Julia.falar()"
   ]
  },
  {
   "cell_type": "code",
   "execution_count": 41,
   "metadata": {},
   "outputs": [
    {
     "name": "stdout",
     "output_type": "stream",
     "text": [
      "preto\n",
      "feminino\n",
      "2\n",
      "preto\n"
     ]
    }
   ],
   "source": [
    "print(Julia.cor_do_pelo)\n",
    "print(Julia.genero)\n",
    "print(Julia.numero_de_patas)\n",
    "print(Julia.cabelo)"
   ]
  },
  {
   "cell_type": "code",
   "execution_count": 42,
   "metadata": {},
   "outputs": [
    {
     "name": "stdout",
     "output_type": "stream",
     "text": [
      "Olá, sou uma pessoa e eu sei falar\n",
      "Amamentando meu filhote\n"
     ]
    }
   ],
   "source": [
    "Julia.falar()\n",
    "Julia.amamentar()"
   ]
  }
 ],
 "metadata": {
  "kernelspec": {
   "display_name": "Python 3",
   "language": "python",
   "name": "python3"
  },
  "language_info": {
   "codemirror_mode": {
    "name": "ipython",
    "version": 3
   },
   "file_extension": ".py",
   "mimetype": "text/x-python",
   "name": "python",
   "nbconvert_exporter": "python",
   "pygments_lexer": "ipython3",
   "version": "3.6.4"
  }
 },
 "nbformat": 4,
 "nbformat_minor": 2
}
