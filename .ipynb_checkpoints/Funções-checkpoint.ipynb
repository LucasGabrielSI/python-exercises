{
 "cells": [
  {
   "cell_type": "code",
   "execution_count": 10,
   "metadata": {},
   "outputs": [],
   "source": [
    "def soma(x, y):\n",
    "    total = x + y\n",
    "    print(f'O total da soma de x + y é: {total}')"
   ]
  },
  {
   "cell_type": "code",
   "execution_count": 11,
   "metadata": {},
   "outputs": [
    {
     "name": "stdout",
     "output_type": "stream",
     "text": [
      "O total da soma de x + y é: 20\n"
     ]
    }
   ],
   "source": [
    "soma(10,10)"
   ]
  },
  {
   "cell_type": "markdown",
   "metadata": {},
   "source": [
    " # PARÂMETROS DEFAULT"
   ]
  },
  {
   "cell_type": "code",
   "execution_count": 12,
   "metadata": {},
   "outputs": [],
   "source": [
    "def login(username='root', password='123'):\n",
    "    print(f'Username: {username}')\n",
    "    print(f'Password: {password}')"
   ]
  },
  {
   "cell_type": "code",
   "execution_count": 13,
   "metadata": {},
   "outputs": [
    {
     "name": "stdout",
     "output_type": "stream",
     "text": [
      "Username: root\n",
      "Password: 123\n"
     ]
    }
   ],
   "source": [
    "login()"
   ]
  },
  {
   "cell_type": "code",
   "execution_count": 14,
   "metadata": {},
   "outputs": [
    {
     "name": "stdout",
     "output_type": "stream",
     "text": [
      "Username: lucas\n",
      "Password: 123\n"
     ]
    }
   ],
   "source": [
    "login('lucas')"
   ]
  },
  {
   "cell_type": "code",
   "execution_count": 15,
   "metadata": {},
   "outputs": [
    {
     "name": "stdout",
     "output_type": "stream",
     "text": [
      "Username: lucas\n",
      "Password: 8832443222\n"
     ]
    }
   ],
   "source": [
    "login('lucas', '8832443222')"
   ]
  },
  {
   "cell_type": "markdown",
   "metadata": {},
   "source": [
    "como padrão, os parâmetros com valores default devem ser os\n",
    "últimos a serem definidos no cabeçario da função"
   ]
  },
  {
   "cell_type": "markdown",
   "metadata": {},
   "source": [
    "# ARGUMENTOS NOMEADOS X POSICIONAIS "
   ]
  },
  {
   "cell_type": "markdown",
   "metadata": {},
   "source": [
    "-> ARGUMENTOS POSICIONAIS OCORRE QUANDO A PASSAGEM DE ARGUMENTOS\n",
    "SE DÁ NA ORDEM EM QUE SÃO DEFINIDO OS PATÂMETROS NO CABEÇARIO DA \n",
    "FUNÇÃO(ENVIADO EM FORMATO DE TUPLA)\n",
    "\n",
    "-> ARGUMENTOS NOMEADOS É A PASSAGEM DE VALORES FAZENDO ASSOCIAÇÕES\n",
    "ENTRE O NOME DO PARÂMETRO E O VALOR QUE ESTÁ SENDO ENVIADO COMO\n",
    "ARGUMENTO, É UMA ASSOCIAÇÃO CHAVE : VALOR(DICIONÁRIO)"
   ]
  },
  {
   "cell_type": "code",
   "execution_count": 25,
   "metadata": {},
   "outputs": [],
   "source": [
    "def dados_pessoais(nome, sobrenome, idade, sexo):\n",
    "    print(f'Nome: {nome}\\nSobrenome: {sobrenome}\\nIdade: {idade}\\nSexo: {sexo}')"
   ]
  },
  {
   "cell_type": "code",
   "execution_count": 26,
   "metadata": {},
   "outputs": [
    {
     "name": "stdout",
     "output_type": "stream",
     "text": [
      "Nome: Lucas\n",
      "Sobrenome: Gabriel\n",
      "Idade: 20\n",
      "Sexo: Masculino\n"
     ]
    }
   ],
   "source": [
    "dados_pessoais('Lucas', 'Gabriel', 20, 'Masculino')"
   ]
  },
  {
   "cell_type": "code",
   "execution_count": 27,
   "metadata": {},
   "outputs": [
    {
     "name": "stdout",
     "output_type": "stream",
     "text": [
      "Nome: Lucas\n",
      "Sobrenome: Oliveira\n",
      "Idade: 20\n",
      "Sexo: masculino\n"
     ]
    }
   ],
   "source": [
    "dados_pessoais(idade=20, sobrenome='Oliveira', sexo='masculino', nome='Lucas')"
   ]
  },
  {
   "cell_type": "markdown",
   "metadata": {},
   "source": [
    "# RETORNO DE VALORES MÚLTIPLOS"
   ]
  },
  {
   "cell_type": "code",
   "execution_count": 28,
   "metadata": {},
   "outputs": [],
   "source": [
    "def func():\n",
    "    return 1, 2"
   ]
  },
  {
   "cell_type": "code",
   "execution_count": 29,
   "metadata": {},
   "outputs": [],
   "source": [
    "a, b = func()"
   ]
  },
  {
   "cell_type": "code",
   "execution_count": 34,
   "metadata": {},
   "outputs": [
    {
     "name": "stdout",
     "output_type": "stream",
     "text": [
      "1\n",
      "2\n"
     ]
    }
   ],
   "source": [
    "print(a)\n",
    "print(b)"
   ]
  },
  {
   "cell_type": "code",
   "execution_count": 38,
   "metadata": {},
   "outputs": [],
   "source": [
    "def potencia(x):\n",
    "    quadrado = x**2\n",
    "    cubo = x**3\n",
    "    return (quadrado, cubo)"
   ]
  },
  {
   "cell_type": "code",
   "execution_count": 39,
   "metadata": {},
   "outputs": [],
   "source": [
    "q, c = potencia(10)"
   ]
  },
  {
   "cell_type": "code",
   "execution_count": 40,
   "metadata": {},
   "outputs": [
    {
     "name": "stdout",
     "output_type": "stream",
     "text": [
      "100\n",
      "1000\n"
     ]
    }
   ],
   "source": [
    "print(q)\n",
    "print(c)"
   ]
  },
  {
   "cell_type": "code",
   "execution_count": null,
   "metadata": {},
   "outputs": [],
   "source": []
  }
 ],
 "metadata": {
  "kernelspec": {
   "display_name": "Python 3",
   "language": "python",
   "name": "python3"
  },
  "language_info": {
   "codemirror_mode": {
    "name": "ipython",
    "version": 3
   },
   "file_extension": ".py",
   "mimetype": "text/x-python",
   "name": "python",
   "nbconvert_exporter": "python",
   "pygments_lexer": "ipython3",
   "version": "3.6.4"
  }
 },
 "nbformat": 4,
 "nbformat_minor": 2
}
