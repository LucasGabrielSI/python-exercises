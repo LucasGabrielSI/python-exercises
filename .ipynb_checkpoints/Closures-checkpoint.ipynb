{
 "cells": [
  {
   "cell_type": "code",
   "execution_count": 19,
   "metadata": {},
   "outputs": [],
   "source": [
    "def externa():\n",
    "    def interna():\n",
    "        print('42')\n",
    "    return interna"
   ]
  },
  {
   "cell_type": "code",
   "execution_count": 21,
   "metadata": {},
   "outputs": [
    {
     "name": "stdout",
     "output_type": "stream",
     "text": [
      "42\n"
     ]
    }
   ],
   "source": [
    "result = externa()\n",
    "result()"
   ]
  },
  {
   "cell_type": "code",
   "execution_count": 24,
   "metadata": {},
   "outputs": [],
   "source": [
    "def selecao_idioma(idioma):\n",
    "    dic = {'pt': 'Olá', 'pi': 'Ahoy', 'en': 'Hello'}\n",
    "    \n",
    "    def get_nome(nome):\n",
    "        print('{} {}'.format(dic[idioma], nome))\n",
    "    \n",
    "    return get_nome"
   ]
  },
  {
   "cell_type": "code",
   "execution_count": 26,
   "metadata": {},
   "outputs": [
    {
     "name": "stdout",
     "output_type": "stream",
     "text": [
      "Olá Lucas Gabriel\n"
     ]
    }
   ],
   "source": [
    "result = selecao_idioma('pt')\n",
    "result('Lucas Gabriel')"
   ]
  },
  {
   "cell_type": "code",
   "execution_count": 27,
   "metadata": {},
   "outputs": [
    {
     "name": "stdout",
     "output_type": "stream",
     "text": [
      "Ahoy Lucas Gabriel\n"
     ]
    }
   ],
   "source": [
    "result = selecao_idioma('pi')\n",
    "result('Lucas Gabriel')"
   ]
  },
  {
   "cell_type": "code",
   "execution_count": 28,
   "metadata": {},
   "outputs": [
    {
     "name": "stdout",
     "output_type": "stream",
     "text": [
      "Hello Lucas Gabriel\n"
     ]
    }
   ],
   "source": [
    "result = selecao_idioma('en')\n",
    "result('Lucas Gabriel')"
   ]
  },
  {
   "cell_type": "code",
   "execution_count": null,
   "metadata": {},
   "outputs": [],
   "source": []
  }
 ],
 "metadata": {
  "kernelspec": {
   "display_name": "Python 3",
   "language": "python",
   "name": "python3"
  },
  "language_info": {
   "codemirror_mode": {
    "name": "ipython",
    "version": 3
   },
   "file_extension": ".py",
   "mimetype": "text/x-python",
   "name": "python",
   "nbconvert_exporter": "python",
   "pygments_lexer": "ipython3",
   "version": "3.6.4"
  }
 },
 "nbformat": 4,
 "nbformat_minor": 2
}
