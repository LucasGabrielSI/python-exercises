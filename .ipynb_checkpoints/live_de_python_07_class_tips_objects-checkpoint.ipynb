{
 "cells": [
  {
   "cell_type": "code",
   "execution_count": 45,
   "metadata": {},
   "outputs": [],
   "source": [
    "class Gatinho(object):\n",
    "    def __init__(self, nome, cor, idade):\n",
    "        self.nome = nome\n",
    "        self.cor = cor\n",
    "        self.idade = idade\n",
    "        self.mingal_com_fome = False\n",
    "        self.rodado = 0\n",
    "    \n",
    "    def miar(self):\n",
    "        if self.mingal_com_fome:\n",
    "            return 'MIAAAAAUUUUUUUUU'\n",
    "        return 'Miau, Miau'\n",
    "    \n",
    "    def andar(self):\n",
    "        self.rodado += 1\n",
    "        self.mingal_com_fome = True\n",
    "        return 'Mingau andando'\n",
    "    \n",
    "    @property\n",
    "    def velho(self):\n",
    "        return True if self.idade > 3 else False\n",
    "        \n",
    "    @property\n",
    "    def cansado(self):\n",
    "        return True if self.rodado > 5 else False"
   ]
  },
  {
   "cell_type": "code",
   "execution_count": 46,
   "metadata": {},
   "outputs": [],
   "source": [
    "mingau = Gatinho('Mingau', 'branco', 5)"
   ]
  },
  {
   "cell_type": "code",
   "execution_count": 47,
   "metadata": {},
   "outputs": [
    {
     "name": "stdout",
     "output_type": "stream",
     "text": [
      "Mingau\n",
      "branco\n",
      "5\n",
      "Miau, Miau\n",
      "Mingau andando\n"
     ]
    }
   ],
   "source": [
    "print(mingau.nome)\n",
    "print(mingau.cor)\n",
    "print(mingau.idade)\n",
    "print(mingau.miar())\n",
    "print(mingau.andar())"
   ]
  },
  {
   "cell_type": "code",
   "execution_count": 48,
   "metadata": {},
   "outputs": [
    {
     "name": "stdout",
     "output_type": "stream",
     "text": [
      "MIAAAAAUUUUUUUUU\n"
     ]
    }
   ],
   "source": [
    "print(mingau.miar())"
   ]
  },
  {
   "cell_type": "code",
   "execution_count": 49,
   "metadata": {},
   "outputs": [
    {
     "name": "stdout",
     "output_type": "stream",
     "text": [
      "True\n"
     ]
    }
   ],
   "source": [
    "print(mingau.velho) # foi acessado como um atributo"
   ]
  },
  {
   "cell_type": "code",
   "execution_count": 50,
   "metadata": {},
   "outputs": [
    {
     "name": "stdout",
     "output_type": "stream",
     "text": [
      "Mingau andando\n",
      "Mingau andando\n",
      "Mingau andando\n",
      "Mingau andando\n",
      "Mingau andando\n",
      "Mingau andando\n"
     ]
    }
   ],
   "source": [
    "print(mingau.andar())\n",
    "print(mingau.andar())\n",
    "print(mingau.andar())\n",
    "print(mingau.andar())\n",
    "print(mingau.andar())\n",
    "print(mingau.andar())"
   ]
  },
  {
   "cell_type": "code",
   "execution_count": 51,
   "metadata": {},
   "outputs": [
    {
     "name": "stdout",
     "output_type": "stream",
     "text": [
      "True\n"
     ]
    }
   ],
   "source": [
    "print(mingau.cansado)"
   ]
  },
  {
   "cell_type": "markdown",
   "metadata": {},
   "source": [
    "# Ex 2 - OO"
   ]
  },
  {
   "cell_type": "code",
   "execution_count": 18,
   "metadata": {},
   "outputs": [],
   "source": [
    "class Ponto(object):\n",
    "    def __init__(self, x, y):\n",
    "        self.x = x \n",
    "        self.y = y\n",
    "    \n",
    "    def __repr__(self):\n",
    "        return f'Ponto({self.x}, {self.y})'"
   ]
  },
  {
   "cell_type": "code",
   "execution_count": 19,
   "metadata": {},
   "outputs": [],
   "source": [
    "ponto_1 = Ponto(2, 2)\n",
    "ponto_2 = Ponto(3, 5)"
   ]
  },
  {
   "cell_type": "code",
   "execution_count": 20,
   "metadata": {},
   "outputs": [
    {
     "name": "stdout",
     "output_type": "stream",
     "text": [
      "Ponto(2, 2)\n",
      "Ponto(3, 5)\n"
     ]
    }
   ],
   "source": [
    "print(ponto_1)\n",
    "print(ponto_2)"
   ]
  },
  {
   "cell_type": "code",
   "execution_count": 48,
   "metadata": {},
   "outputs": [],
   "source": [
    "class Linha(object):\n",
    "    def __init__(self, p_1, p_2):\n",
    "        self.ponto_1 = p_1\n",
    "        self.ponto_2 = p_2\n",
    "    \n",
    "    @property\n",
    "    def distancia_x(self):\n",
    "        return abs(self.ponto_1.x - self.ponto_2.x)\n",
    "    \n",
    "    @property\n",
    "    def distancia_y(self):\n",
    "        return abs(self.ponto_1.y - self.ponto_2.y)    \n",
    "    \n",
    "    def __repr__(self):\n",
    "        return f'Linha([{self.ponto_1}, {self.ponto_2}])'"
   ]
  },
  {
   "cell_type": "code",
   "execution_count": 49,
   "metadata": {},
   "outputs": [],
   "source": [
    "linha_1 = Linha(ponto_1, ponto_2)"
   ]
  },
  {
   "cell_type": "code",
   "execution_count": 51,
   "metadata": {},
   "outputs": [
    {
     "name": "stdout",
     "output_type": "stream",
     "text": [
      "1\n",
      "3\n",
      "Linha([Ponto(2, 2), Ponto(3, 5)])\n"
     ]
    }
   ],
   "source": [
    "print(linha_1.distancia_x)\n",
    "print(linha_1.distancia_y)\n",
    "print(linha_1)"
   ]
  },
  {
   "cell_type": "code",
   "execution_count": 52,
   "metadata": {},
   "outputs": [],
   "source": [
    "class Quadrado(object):\n",
    "    \"\"\"\n",
    "        continuar a resolução depois!\n",
    "    \"\"\"\n",
    "    def __init__(self, p1, p2, p3, p4):\n",
    "        self.p1 = p1\n",
    "        self.p2 = p2\n",
    "        self.p3 = p3\n",
    "        self.p4 = p4"
   ]
  },
  {
   "cell_type": "code",
   "execution_count": null,
   "metadata": {},
   "outputs": [],
   "source": []
  }
 ],
 "metadata": {
  "kernelspec": {
   "display_name": "Python 3",
   "language": "python",
   "name": "python3"
  },
  "language_info": {
   "codemirror_mode": {
    "name": "ipython",
    "version": 3
   },
   "file_extension": ".py",
   "mimetype": "text/x-python",
   "name": "python",
   "nbconvert_exporter": "python",
   "pygments_lexer": "ipython3",
   "version": "3.6.4"
  }
 },
 "nbformat": 4,
 "nbformat_minor": 2
}
