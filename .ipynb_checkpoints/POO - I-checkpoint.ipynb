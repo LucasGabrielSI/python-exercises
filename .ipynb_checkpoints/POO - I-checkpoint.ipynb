{
 "cells": [
  {
   "cell_type": "markdown",
   "metadata": {},
   "source": [
    "# ORIENTAÇÃO A OBJETO COM PYTHON"
   ]
  },
  {
   "cell_type": "markdown",
   "metadata": {},
   "source": [
    "# INTRODUÇÃO"
   ]
  },
  {
   "cell_type": "code",
   "execution_count": 6,
   "metadata": {},
   "outputs": [],
   "source": [
    "class Meu_Objeto(object):\n",
    "    def __init__(self):\n",
    "        self.nome = 'Lucas'\n",
    "        self.idade = 20\n",
    "        print('construtor chamado com sucesso')\n",
    "        \n",
    "    def imprime(self):\n",
    "        print('olá meu nome é {} e eu tenho {} anos'.format(self.nome, self.idade))"
   ]
  },
  {
   "cell_type": "code",
   "execution_count": 7,
   "metadata": {},
   "outputs": [
    {
     "name": "stdout",
     "output_type": "stream",
     "text": [
      "construtor chamado com sucesso\n"
     ]
    }
   ],
   "source": [
    "Lucas = Meu_Objeto()"
   ]
  },
  {
   "cell_type": "code",
   "execution_count": 8,
   "metadata": {},
   "outputs": [
    {
     "name": "stdout",
     "output_type": "stream",
     "text": [
      "olá meu nome é Lucas e eu tenho 20 anos\n"
     ]
    }
   ],
   "source": [
    "Lucas.imprime()"
   ]
  },
  {
   "cell_type": "markdown",
   "metadata": {},
   "source": [
    "# EXERCÍCIO 1"
   ]
  },
  {
   "cell_type": "code",
   "execution_count": 10,
   "metadata": {},
   "outputs": [],
   "source": [
    "class Quadrado(object):\n",
    "    def __init__(self, tamanho_do_lado):\n",
    "        self.tamanho_do_lado = tamanho_do_lado\n",
    "        \n",
    "    def Muda_valor_do_lado(self, novo_valor):\n",
    "        self.tamanho_do_lado = novo_valor\n",
    "        return self.tamanho_do_lado\n",
    "    \n",
    "    def Retornar_valor(self):\n",
    "        return self.tamanho_do_lado\n",
    "    \n",
    "    def calcular_Area(self):\n",
    "        return self.tamanho_do_lado ** 2        "
   ]
  },
  {
   "cell_type": "code",
   "execution_count": 18,
   "metadata": {},
   "outputs": [
    {
     "data": {
      "text/plain": [
       "36"
      ]
     },
     "execution_count": 18,
     "metadata": {},
     "output_type": "execute_result"
    }
   ],
   "source": [
    "Quadrado1 = Quadrado(5)"
   ]
  },
  {
   "cell_type": "code",
   "execution_count": 20,
   "metadata": {},
   "outputs": [
    {
     "data": {
      "text/plain": [
       "6"
      ]
     },
     "execution_count": 20,
     "metadata": {},
     "output_type": "execute_result"
    }
   ],
   "source": [
    "Quadrado1.Muda_valor_do_lado(6)"
   ]
  },
  {
   "cell_type": "code",
   "execution_count": 21,
   "metadata": {},
   "outputs": [
    {
     "data": {
      "text/plain": [
       "6"
      ]
     },
     "execution_count": 21,
     "metadata": {},
     "output_type": "execute_result"
    }
   ],
   "source": [
    "Quadrado1.Retornar_valor()"
   ]
  },
  {
   "cell_type": "code",
   "execution_count": 22,
   "metadata": {},
   "outputs": [
    {
     "data": {
      "text/plain": [
       "36"
      ]
     },
     "execution_count": 22,
     "metadata": {},
     "output_type": "execute_result"
    }
   ],
   "source": [
    "Quadrado1.calcular_Area()"
   ]
  },
  {
   "cell_type": "markdown",
   "metadata": {},
   "source": [
    "# EXERCÍCIO 2"
   ]
  },
  {
   "cell_type": "code",
   "execution_count": 87,
   "metadata": {},
   "outputs": [],
   "source": [
    "class Pessoa(object):\n",
    "    def __init__(self, nome, idade, peso, altura):\n",
    "        self.nome = nome\n",
    "        self.idade = idade\n",
    "        self.peso = peso\n",
    "        self.altura = altura          \n",
    "            \n",
    "    def engordar(self, qtd_kg):\n",
    "        self.peso = self.peso + qtd_kg\n",
    "        return self.peso\n",
    "            \n",
    "    def emagrecer(self, qtd_kg):\n",
    "        self.peso = self.peso - qtd_kg\n",
    "        return self.peso\n",
    "            \n",
    "    def crescer(self):\n",
    "        if self.idade < 21:\n",
    "            self.altura = self.altura + 0.5\n",
    "            return self.altura\n",
    "    \n",
    "    def Envelhecer(self):\n",
    "        self.idade = self.idade + 1\n",
    "        self.crescer()\n",
    "        return self.idade"
   ]
  },
  {
   "cell_type": "code",
   "execution_count": 88,
   "metadata": {},
   "outputs": [],
   "source": [
    "Pessoa1 = Pessoa('Lucas Gabriel', 18, 100.0, 1.85)"
   ]
  },
  {
   "cell_type": "code",
   "execution_count": 89,
   "metadata": {},
   "outputs": [
    {
     "data": {
      "text/plain": [
       "110.0"
      ]
     },
     "execution_count": 89,
     "metadata": {},
     "output_type": "execute_result"
    }
   ],
   "source": [
    "Pessoa1.engordar(10)"
   ]
  },
  {
   "cell_type": "code",
   "execution_count": 90,
   "metadata": {},
   "outputs": [
    {
     "data": {
      "text/plain": [
       "100.0"
      ]
     },
     "execution_count": 90,
     "metadata": {},
     "output_type": "execute_result"
    }
   ],
   "source": [
    "Pessoa1.emagrecer(10)"
   ]
  },
  {
   "cell_type": "code",
   "execution_count": 91,
   "metadata": {},
   "outputs": [
    {
     "data": {
      "text/plain": [
       "19"
      ]
     },
     "execution_count": 91,
     "metadata": {},
     "output_type": "execute_result"
    }
   ],
   "source": [
    "Pessoa1.Envelhecer()"
   ]
  }
 ],
 "metadata": {
  "kernelspec": {
   "display_name": "Python 3",
   "language": "python",
   "name": "python3"
  },
  "language_info": {
   "codemirror_mode": {
    "name": "ipython",
    "version": 3
   },
   "file_extension": ".py",
   "mimetype": "text/x-python",
   "name": "python",
   "nbconvert_exporter": "python",
   "pygments_lexer": "ipython3",
   "version": "3.6.4"
  }
 },
 "nbformat": 4,
 "nbformat_minor": 2
}
