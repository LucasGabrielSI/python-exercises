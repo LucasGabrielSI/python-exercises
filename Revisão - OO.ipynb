{
 "cells": [
  {
   "cell_type": "code",
   "execution_count": 1,
   "metadata": {},
   "outputs": [],
   "source": [
    "class Person(object):\n",
    "    __numeroDePessoas = 0 # atributo estático e privado \n",
    "    \n",
    "    def __init__(self,nome, idade, cpf):\n",
    "        self.nome = nome\n",
    "        self.idade = idade\n",
    "        self.cpf = cpf\n",
    "        \n",
    "    def getNome(self):\n",
    "        return 'O nome da pessoa é: {}'.format(self.nome)\n",
    "    \n",
    "    def getIdade(self):\n",
    "        return 'A idade da pessoa é: {}'.format(self.idade)\n",
    "    \n",
    "    def fazerAniversario(self):\n",
    "        self.idade += 1\n",
    "        print('A pessoa fez aniversário e agora tem: {}'.format(self.idade))\n",
    "    \n",
    "    def nascimento(): # método estático\n",
    "         Person.__numeroDePessoas +=1\n",
    "        \n",
    "    def nomeidade(self): # método abstrato\n",
    "        pass"
   ]
  },
  {
   "cell_type": "code",
   "execution_count": 2,
   "metadata": {},
   "outputs": [],
   "source": [
    "class Bob(Person):\n",
    "    def __init__(self, nome, idade, cpf):\n",
    "        super().__init__(nome, idade, cpf)\n",
    "    \n",
    "    def nomeidade(self):\n",
    "        return 'O nome é {} e idade é {}'.format(self.nome, self.idade)"
   ]
  },
  {
   "cell_type": "code",
   "execution_count": 3,
   "metadata": {},
   "outputs": [],
   "source": [
    "bob = Bob('Bob sauro', 20, '618.230.463.47')"
   ]
  },
  {
   "cell_type": "code",
   "execution_count": 4,
   "metadata": {},
   "outputs": [
    {
     "name": "stdout",
     "output_type": "stream",
     "text": [
      "Bob sauro\n",
      "20\n",
      "618.230.463.47\n"
     ]
    }
   ],
   "source": [
    "print(bob.nome)\n",
    "print(bob.idade)\n",
    "print(bob.cpf)"
   ]
  },
  {
   "cell_type": "code",
   "execution_count": 5,
   "metadata": {},
   "outputs": [
    {
     "name": "stdout",
     "output_type": "stream",
     "text": [
      "O nome é Bob sauro e idade é 20\n",
      "O nome da pessoa é: Bob sauro\n",
      "A idade da pessoa é: 20\n",
      "A pessoa fez aniversário e agora tem: 21\n"
     ]
    }
   ],
   "source": [
    "print(bob.nomeidade())\n",
    "print(bob.getNome())\n",
    "print(bob.getIdade())\n",
    "bob.fazerAniversario()"
   ]
  },
  {
   "cell_type": "code",
   "execution_count": 6,
   "metadata": {},
   "outputs": [],
   "source": [
    "Person.nascimento() # métodos estáticos são métodos da classe, portanto não pode ser \"chamados\" pela instância.\n",
    "Person.nascimento()\n",
    "Person.nascimento()\n",
    "Person.nascimento()"
   ]
  },
  {
   "cell_type": "code",
   "execution_count": 8,
   "metadata": {},
   "outputs": [
    {
     "data": {
      "text/plain": [
       "4"
      ]
     },
     "execution_count": 8,
     "metadata": {},
     "output_type": "execute_result"
    }
   ],
   "source": [
    "bob._Person__numeroDePessoas  # atributos estáticos são atributos da classe, por tanto, não podem ser acessados pela instância"
   ]
  },
  {
   "cell_type": "code",
   "execution_count": null,
   "metadata": {},
   "outputs": [],
   "source": []
  }
 ],
 "metadata": {
  "kernelspec": {
   "display_name": "Python 3",
   "language": "python",
   "name": "python3"
  },
  "language_info": {
   "codemirror_mode": {
    "name": "ipython",
    "version": 3
   },
   "file_extension": ".py",
   "mimetype": "text/x-python",
   "name": "python",
   "nbconvert_exporter": "python",
   "pygments_lexer": "ipython3",
   "version": "3.6.4"
  }
 },
 "nbformat": 4,
 "nbformat_minor": 2
}
