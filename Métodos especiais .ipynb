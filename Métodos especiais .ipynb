{
 "cells": [
  {
   "cell_type": "markdown",
   "metadata": {},
   "source": [
    "# __str__"
   ]
  },
  {
   "cell_type": "code",
   "execution_count": 12,
   "metadata": {},
   "outputs": [],
   "source": [
    "class Conta(object):\n",
    "    def __init__(self, ID, saldo):\n",
    "        self.ID = ID \n",
    "        self.saldo = saldo\n",
    "        \n",
    "    def __str__(self):\n",
    "        return f'ID: {self.ID}\\nSaldo: R$ {self.saldo}'"
   ]
  },
  {
   "cell_type": "code",
   "execution_count": 13,
   "metadata": {},
   "outputs": [],
   "source": [
    "bradesco = Conta(546, 5000)"
   ]
  },
  {
   "cell_type": "code",
   "execution_count": 14,
   "metadata": {},
   "outputs": [
    {
     "name": "stdout",
     "output_type": "stream",
     "text": [
      "ID: 546\n",
      "Saldo: R$ 5000\n"
     ]
    }
   ],
   "source": [
    "print(bradesco)"
   ]
  },
  {
   "cell_type": "code",
   "execution_count": 15,
   "metadata": {},
   "outputs": [],
   "source": [
    "class Conta2(object):\n",
    "    def __init__(self, ID, saldo):\n",
    "        self.ID = ID \n",
    "        self.saldo = saldo"
   ]
  },
  {
   "cell_type": "code",
   "execution_count": 16,
   "metadata": {},
   "outputs": [],
   "source": [
    "itau = Conta2(546, 5000)"
   ]
  },
  {
   "cell_type": "code",
   "execution_count": 17,
   "metadata": {},
   "outputs": [
    {
     "name": "stdout",
     "output_type": "stream",
     "text": [
      "<__main__.Conta2 object at 0x00000230927F48D0>\n"
     ]
    }
   ],
   "source": [
    "print(itau)"
   ]
  },
  {
   "cell_type": "markdown",
   "metadata": {},
   "source": [
    "o __str__ é um método que serve para converter o objeto em uma string"
   ]
  },
  {
   "cell_type": "markdown",
   "metadata": {},
   "source": [
    "-----------------------------------------------------------------\n",
    "# __add__"
   ]
  },
  {
   "cell_type": "code",
   "execution_count": 45,
   "metadata": {},
   "outputs": [],
   "source": [
    "class Conta3(object):\n",
    "    def __init__(self, ID, saldo):\n",
    "        self.ID = ID \n",
    "        self.saldo = saldo\n",
    "        \n",
    "    def __str__(self):\n",
    "        return f'ID: {self.ID}\\nSaldo: R$ {self.saldo}'\n",
    "    \n",
    "    def __add__(self, other):\n",
    "        self.saldo += other.saldo\n",
    "        \n",
    "    def __sub__(self, other):\n",
    "        self.saldo -= other.saldo\n",
    "    \n",
    "    def __mult__(self, other):\n",
    "        self.saldo = self.saldo * other.saldo\n",
    "    \n",
    "    def __div__(self, other):\n",
    "        self.saldo = self.saldo / other.saldo"
   ]
  },
  {
   "cell_type": "code",
   "execution_count": 46,
   "metadata": {},
   "outputs": [],
   "source": [
    "santander = Conta3(123, 5000)"
   ]
  },
  {
   "cell_type": "code",
   "execution_count": 47,
   "metadata": {},
   "outputs": [
    {
     "data": {
      "text/plain": [
       "5000"
      ]
     },
     "execution_count": 47,
     "metadata": {},
     "output_type": "execute_result"
    }
   ],
   "source": [
    "santander.saldo"
   ]
  },
  {
   "cell_type": "code",
   "execution_count": 48,
   "metadata": {},
   "outputs": [],
   "source": [
    "nubank = Conta3(124, 8000)"
   ]
  },
  {
   "cell_type": "code",
   "execution_count": 49,
   "metadata": {},
   "outputs": [],
   "source": [
    "santander + nubank "
   ]
  },
  {
   "cell_type": "code",
   "execution_count": 50,
   "metadata": {},
   "outputs": [
    {
     "data": {
      "text/plain": [
       "13000"
      ]
     },
     "execution_count": 50,
     "metadata": {},
     "output_type": "execute_result"
    }
   ],
   "source": [
    "santander.saldo"
   ]
  },
  {
   "cell_type": "code",
   "execution_count": 51,
   "metadata": {},
   "outputs": [],
   "source": [
    "santander - nubank "
   ]
  },
  {
   "cell_type": "code",
   "execution_count": 52,
   "metadata": {},
   "outputs": [
    {
     "data": {
      "text/plain": [
       "5000"
      ]
     },
     "execution_count": 52,
     "metadata": {},
     "output_type": "execute_result"
    }
   ],
   "source": [
    "santander.saldo"
   ]
  },
  {
   "cell_type": "code",
   "execution_count": 53,
   "metadata": {},
   "outputs": [
    {
     "ename": "TypeError",
     "evalue": "unsupported operand type(s) for *: 'Conta3' and 'Conta3'",
     "output_type": "error",
     "traceback": [
      "\u001b[1;31m---------------------------------------------------------------------------\u001b[0m",
      "\u001b[1;31mTypeError\u001b[0m                                 Traceback (most recent call last)",
      "\u001b[1;32m<ipython-input-53-83c8ab0a111d>\u001b[0m in \u001b[0;36m<module>\u001b[1;34m()\u001b[0m\n\u001b[1;32m----> 1\u001b[1;33m \u001b[0msantander\u001b[0m \u001b[1;33m*\u001b[0m \u001b[0mnubank\u001b[0m\u001b[1;33m\u001b[0m\u001b[0m\n\u001b[0m",
      "\u001b[1;31mTypeError\u001b[0m: unsupported operand type(s) for *: 'Conta3' and 'Conta3'"
     ]
    }
   ],
   "source": [
    "santander * nubank "
   ]
  },
  {
   "cell_type": "code",
   "execution_count": null,
   "metadata": {},
   "outputs": [],
   "source": []
  },
  {
   "cell_type": "markdown",
   "metadata": {},
   "source": [
    "o __add__ permite que o valor de duas instâncias sejam somados"
   ]
  },
  {
   "cell_type": "markdown",
   "metadata": {},
   "source": [
    "o mesmo pode ser aplicado para os métodos __sub__, __mult__, __div__ , realizando a subtração, multiplicação e divisão, respectivamente"
   ]
  },
  {
   "cell_type": "code",
   "execution_count": null,
   "metadata": {},
   "outputs": [],
   "source": []
  }
 ],
 "metadata": {
  "kernelspec": {
   "display_name": "Python 3",
   "language": "python",
   "name": "python3"
  },
  "language_info": {
   "codemirror_mode": {
    "name": "ipython",
    "version": 3
   },
   "file_extension": ".py",
   "mimetype": "text/x-python",
   "name": "python",
   "nbconvert_exporter": "python",
   "pygments_lexer": "ipython3",
   "version": "3.6.4"
  }
 },
 "nbformat": 4,
 "nbformat_minor": 2
}
