{
 "cells": [
  {
   "cell_type": "markdown",
   "metadata": {},
   "source": [
    "# Exercício"
   ]
  },
  {
   "cell_type": "code",
   "execution_count": 2,
   "metadata": {},
   "outputs": [],
   "source": [
    "class Automovel(object):\n",
    "    def __init__(self, cor, ano, tipo, valor_estimado):\n",
    "        self.cor = cor\n",
    "        self.ano = ano\n",
    "        self.tipo = tipo\n",
    "        self.valor_estimado = valor_estimado\n",
    "        \n",
    "    def get_cor(self):\n",
    "        print('a cor do automovel é: {}'.format(self.cor))\n",
    "    \n",
    "    def get_ano(self):\n",
    "        print('o ano em que o automovel foi lançado é: {}'.format(self.ano))"
   ]
  },
  {
   "cell_type": "code",
   "execution_count": 6,
   "metadata": {},
   "outputs": [],
   "source": [
    "class Onibus(Automovel):\n",
    "    def __init__(self, cor, ano, tipo, valor_estimado):\n",
    "        super(Onibus, self).__init__(cor, ano, tipo, valor_estimado)\n",
    "        \n",
    "    def get_ano(self): # sobrescrita do método get_ano da superclasse\n",
    "        print('o ano em que o onibus foi lançado é: {}'.format(self.ano))"
   ]
  },
  {
   "cell_type": "code",
   "execution_count": 7,
   "metadata": {},
   "outputs": [],
   "source": [
    "onibus = Onibus('branco e amarelo', 2008, 'onibus de viagem', 1000000)"
   ]
  },
  {
   "cell_type": "code",
   "execution_count": 8,
   "metadata": {},
   "outputs": [
    {
     "name": "stdout",
     "output_type": "stream",
     "text": [
      "a cor do automovel é: branco e amarelo\n",
      "o ano em que o onibus foi lançado é: 2008\n"
     ]
    }
   ],
   "source": [
    "onibus.get_cor()\n",
    "onibus.get_ano()"
   ]
  },
  {
   "cell_type": "code",
   "execution_count": 16,
   "metadata": {},
   "outputs": [],
   "source": [
    "class Cachorro(object):\n",
    "    def __init__(self, cor_do_pelo, nome):\n",
    "        self.cor_do_pelo = cor_do_pelo\n",
    "        self.nome = nome\n",
    "        \n",
    "    def darApata(self):\n",
    "        print('O cachorro deu a patinha pro seu dono')"
   ]
  },
  {
   "cell_type": "code",
   "execution_count": 17,
   "metadata": {},
   "outputs": [],
   "source": [
    "class Pessoa(object):\n",
    "    def __init__(self, nome, cao):\n",
    "        self.nome = nome\n",
    "        self.cao = cao"
   ]
  },
  {
   "cell_type": "code",
   "execution_count": 18,
   "metadata": {},
   "outputs": [],
   "source": [
    "rex = Cachorro('caramelo', 'rex')"
   ]
  },
  {
   "cell_type": "code",
   "execution_count": 19,
   "metadata": {},
   "outputs": [],
   "source": [
    "lucas = Pessoa('lucas', rex)"
   ]
  },
  {
   "cell_type": "code",
   "execution_count": 22,
   "metadata": {},
   "outputs": [
    {
     "name": "stdout",
     "output_type": "stream",
     "text": [
      "O cachorro deu a patinha pro seu dono\n"
     ]
    }
   ],
   "source": [
    "lucas.cao.darApata()"
   ]
  },
  {
   "cell_type": "code",
   "execution_count": null,
   "metadata": {},
   "outputs": [],
   "source": []
  }
 ],
 "metadata": {
  "kernelspec": {
   "display_name": "Python 3",
   "language": "python",
   "name": "python3"
  },
  "language_info": {
   "codemirror_mode": {
    "name": "ipython",
    "version": 3
   },
   "file_extension": ".py",
   "mimetype": "text/x-python",
   "name": "python",
   "nbconvert_exporter": "python",
   "pygments_lexer": "ipython3",
   "version": "3.6.4"
  }
 },
 "nbformat": 4,
 "nbformat_minor": 2
}
